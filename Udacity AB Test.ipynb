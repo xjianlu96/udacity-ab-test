{
 "cells": [
  {
   "cell_type": "code",
   "execution_count": 1,
   "id": "flexible-voluntary",
   "metadata": {},
   "outputs": [],
   "source": [
    "# unit of diversion: cookie\n",
    "# Invariant Metrics\n",
    "# Number of Cookies (Ck); Number of Clicks (Cl); Click Through Prob (Cl/Ck)"
   ]
  },
  {
   "cell_type": "code",
   "execution_count": 2,
   "id": "manufactured-planet",
   "metadata": {},
   "outputs": [],
   "source": [
    "# Evaluation Matrics\n",
    "# Gross Conversation enrolled/Clicks; dmin=0.01\n",
    "# Retention paid/enrolled; dmin=0.01\n",
    "# Net Conversation paid/Clicks; dmin=0.0075"
   ]
  },
  {
   "cell_type": "code",
   "execution_count": 6,
   "id": "engaging-scholar",
   "metadata": {},
   "outputs": [
    {
     "name": "stdout",
     "output_type": "stream",
     "text": [
      "{'Cookies': 5000, 'Clicks': 400.0, 'Enrollments': 82.5, 'CTP': 0.08, 'GConversion': 0.20625, 'Retention': 0.53, 'NConversion': 0.109313}\n"
     ]
    }
   ],
   "source": [
    "#Estimate the baseline\n",
    "\n",
    "baseline = {\"Cookies\":40000,\"Clicks\":3200,\"Enrollments\":660,\"CTP\":0.08,\"GConversion\":0.20625,\n",
    "           \"Retention\":0.53,\"NConversion\":0.109313}\n",
    "\n",
    "r=5000/40000\n",
    "baseline[\"Cookies\"]=5000\n",
    "baseline[\"Clicks\"]=baseline[\"Clicks\"]*r\n",
    "baseline[\"Enrollments\"]=baseline[\"Enrollments\"]*r\n",
    "\n",
    "print(baseline)"
   ]
  },
  {
   "cell_type": "code",
   "execution_count": null,
   "id": "adjacent-baptist",
   "metadata": {},
   "outputs": [],
   "source": []
  },
  {
   "cell_type": "code",
   "execution_count": 18,
   "id": "aboriginal-comedy",
   "metadata": {},
   "outputs": [],
   "source": [
    "import math\n",
    "from scipy.stats import norm"
   ]
  },
  {
   "cell_type": "code",
   "execution_count": 17,
   "id": "varying-healthcare",
   "metadata": {},
   "outputs": [
    {
     "name": "stdout",
     "output_type": "stream",
     "text": [
      "0.0202\n",
      "0.055\n",
      "0.0156\n"
     ]
    }
   ],
   "source": [
    "sd_gconversation=round(math.sqrt(baseline[\"GConversion\"]*(1-baseline[\"GConversion\"])/400),4)\n",
    "print(sd_gconversation)\n",
    "\n",
    "sd_retention=round(math.sqrt(baseline[\"Retention\"]*(1-baseline[\"Retention\"])/82.4),4)\n",
    "print(sd_retention)\n",
    "\n",
    "sd_nconversation=round(math.sqrt(baseline[\"NConversion\"]*(1-baseline[\"NConversion\"])/400),4)\n",
    "print(sd_nconversation)"
   ]
  },
  {
   "cell_type": "code",
   "execution_count": 38,
   "id": "efficient-needle",
   "metadata": {},
   "outputs": [
    {
     "name": "stdout",
     "output_type": "stream",
     "text": [
      "1.96\n",
      "0.975\n"
     ]
    }
   ],
   "source": [
    "print(round(norm.ppf(0.975),4))\n",
    "print(round(norm.cdf(1.96,0,1),4))"
   ]
  },
  {
   "cell_type": "code",
   "execution_count": 42,
   "id": "broad-smart",
   "metadata": {},
   "outputs": [],
   "source": [
    "#alpha=0.05 beta=0.2\n",
    "def calculate_min_sample(alpha,beta,dmin,p):\n",
    "    z_alpha=norm.ppf(1-alpha/2)\n",
    "    z_beta=norm.ppf(1-beta)\n",
    "    sd1=math.sqrt(2*p*(1-p))\n",
    "    sd2=math.sqrt(p*(1-p)+(p+dmin)*(1-(p+dmin)))\n",
    "    \n",
    "    n=(z_alpha*sd1+z_beta*sd2)**2/dmin**2\n",
    "    return n"
   ]
  },
  {
   "cell_type": "code",
   "execution_count": 52,
   "id": "understanding-infrared",
   "metadata": {},
   "outputs": [
    {
     "name": "stdout",
     "output_type": "stream",
     "text": [
      "25835.0\n",
      "39087.0\n",
      "27413.0\n"
     ]
    }
   ],
   "source": [
    "n_gconversation=round(calculate_min_sample(0.05,0.2,0.01,0.20625),0)\n",
    "n_retention=round(calculate_min_sample(0.05,0.2,0.01,0.53),0)\n",
    "n_nconversation=round(calculate_min_sample(0.05,0.2,0.0075,0.109313),0)\n",
    "\n",
    "print(n_gconversation) #need 25835 clicks\n",
    "print(n_retention)     #need 39087 enrolls\n",
    "print(n_nconversation)"
   ]
  },
  {
   "cell_type": "code",
   "execution_count": 60,
   "id": "defined-position",
   "metadata": {},
   "outputs": [
    {
     "name": "stdout",
     "output_type": "stream",
     "text": [
      "645875.0\n",
      "4737818.0\n",
      "685325.0\n"
     ]
    }
   ],
   "source": [
    "sample_size_gconversation=n_gconversation/(400/5000)*2 #clicks -> cookie\n",
    "sample_size_retention=n_retention/0.20625/0.08*2 #enrolled -> clicks (Gross Conversation) -> cookie\n",
    "sample_size_nconversation=n_nconversation/(400/5000)*2\n",
    "\n",
    "\n",
    "print(round(sample_size_gconversation,0))\n",
    "print(round(sample_size_retention,0)) #4M too large drop the metric\n",
    "print(round(sample_size_nconversation,0))"
   ]
  },
  {
   "cell_type": "code",
   "execution_count": 63,
   "id": "powered-gauge",
   "metadata": {},
   "outputs": [],
   "source": [
    "#analyze data\n",
    "import pandas as pd\n",
    "control_df=pd.read_excel(\"/users/xinjianlu/downloads/final_project_results.xlsx\",sheet_name=0)\n",
    "exp_df=pd.read_excel(\"/users/xinjianlu/downloads/final_project_results.xlsx\",sheet_name=1)"
   ]
  },
  {
   "cell_type": "code",
   "execution_count": 65,
   "id": "dying-spirit",
   "metadata": {},
   "outputs": [
    {
     "data": {
      "text/html": [
       "<div>\n",
       "<style scoped>\n",
       "    .dataframe tbody tr th:only-of-type {\n",
       "        vertical-align: middle;\n",
       "    }\n",
       "\n",
       "    .dataframe tbody tr th {\n",
       "        vertical-align: top;\n",
       "    }\n",
       "\n",
       "    .dataframe thead th {\n",
       "        text-align: right;\n",
       "    }\n",
       "</style>\n",
       "<table border=\"1\" class=\"dataframe\">\n",
       "  <thead>\n",
       "    <tr style=\"text-align: right;\">\n",
       "      <th></th>\n",
       "      <th>Date</th>\n",
       "      <th>Pageviews</th>\n",
       "      <th>Clicks</th>\n",
       "      <th>Enrollments</th>\n",
       "      <th>Payments</th>\n",
       "    </tr>\n",
       "  </thead>\n",
       "  <tbody>\n",
       "    <tr>\n",
       "      <th>0</th>\n",
       "      <td>Sat, Oct 11</td>\n",
       "      <td>7723</td>\n",
       "      <td>687</td>\n",
       "      <td>134.0</td>\n",
       "      <td>70.0</td>\n",
       "    </tr>\n",
       "    <tr>\n",
       "      <th>1</th>\n",
       "      <td>Sun, Oct 12</td>\n",
       "      <td>9102</td>\n",
       "      <td>779</td>\n",
       "      <td>147.0</td>\n",
       "      <td>70.0</td>\n",
       "    </tr>\n",
       "    <tr>\n",
       "      <th>2</th>\n",
       "      <td>Mon, Oct 13</td>\n",
       "      <td>10511</td>\n",
       "      <td>909</td>\n",
       "      <td>167.0</td>\n",
       "      <td>95.0</td>\n",
       "    </tr>\n",
       "  </tbody>\n",
       "</table>\n",
       "</div>"
      ],
      "text/plain": [
       "          Date  Pageviews  Clicks  Enrollments  Payments\n",
       "0  Sat, Oct 11       7723     687        134.0      70.0\n",
       "1  Sun, Oct 12       9102     779        147.0      70.0\n",
       "2  Mon, Oct 13      10511     909        167.0      95.0"
      ]
     },
     "execution_count": 65,
     "metadata": {},
     "output_type": "execute_result"
    }
   ],
   "source": [
    "control_df.head(3)"
   ]
  },
  {
   "cell_type": "code",
   "execution_count": 75,
   "id": "designing-liquid",
   "metadata": {},
   "outputs": [
    {
     "name": "stdout",
     "output_type": "stream",
     "text": [
      "0.5006\n",
      "0.4988 0.5012\n"
     ]
    }
   ],
   "source": [
    "#sanity check: number of page view\n",
    "# H0: p=0.5\n",
    "pageview_control=control_df[\"Pageviews\"].sum()\n",
    "pageview_exp=exp_df[\"Pageviews\"].sum()\n",
    "pageview_sum=pageview_exp+pageview_control\n",
    "\n",
    "p=0.5\n",
    "alpha=0.05\n",
    "p_hat=pageview_control/pageview_sum\n",
    "print(round(p_hat,4))\n",
    "sd=math.sqrt(p*(1-p)/pageview_sum)\n",
    "me=norm.ppf(1-alpha/2)*sd\n",
    "pv_lower,pv_upper=p-me,p+me\n",
    "print(round(pv_lower,4),round(pv_upper,4)) #since 0.5 in (0.4988,0.5012) then can't reject null hypothesis"
   ]
  },
  {
   "cell_type": "code",
   "execution_count": 76,
   "id": "unlike-vacuum",
   "metadata": {},
   "outputs": [
    {
     "name": "stdout",
     "output_type": "stream",
     "text": [
      "0.5005\n",
      "0.4959 0.5041\n"
     ]
    }
   ],
   "source": [
    "# sanity check: number of clicks\n",
    "# H0: p=0.5\n",
    "clicks_control=control_df[\"Clicks\"].sum()\n",
    "clicks_exp=exp_df[\"Clicks\"].sum()\n",
    "clicks_sum=clicks_control+clicks_exp\n",
    "\n",
    "p=0.5\n",
    "alpha=0.05\n",
    "p_hat=clicks_control/clicks_sum\n",
    "print(round(p_hat,4))\n",
    "sd=math.sqrt(p*(1-p)/clicks_sum)\n",
    "me=norm.ppf(1-alpha/2)*sd\n",
    "pv_lower,pv_upper=p-me,p+me\n",
    "print(round(pv_lower,4),round(pv_upper,4)) #since 0.5 in (0.4988,0.5012) then can't reject null hypothesis"
   ]
  },
  {
   "cell_type": "code",
   "execution_count": 86,
   "id": "third-pantyhose",
   "metadata": {},
   "outputs": [
    {
     "name": "stdout",
     "output_type": "stream",
     "text": [
      "0.0001\n",
      "-0.0013 0.0013\n"
     ]
    }
   ],
   "source": [
    "# sanity check: CTP (click through prob)\n",
    "# H0: d_exp-d_control=0\n",
    "# pooled probability=(pi_1*n1+pi_2*n2/(n1+n2))\n",
    "# pooled variance=sqrt(p_pooled*(1-p_pooled)*(1/n1+1/n2))\n",
    "ctp_control=clicks_control/pageview_control\n",
    "ctp_exp=clicks_exp/pageview_exp\n",
    "p_pool=clicks_sum/pageview_sum\n",
    "\n",
    "d_hat=ctp_exp-ctp_control\n",
    "print(round(d_hat,4))\n",
    "sd=math.sqrt(p_pool*(1-p_pool)*(1/pageview_exp+1/pageview_control))\n",
    "me=norm.ppf(1-alpha/2)*sd\n",
    "pv_lower,pv_upper=-me,+me\n",
    "print(round(pv_lower,4),round(pv_upper,4)) #since 0.0001 in (-0.0013,0.0013) then can't reject null hypothesis"
   ]
  },
  {
   "cell_type": "code",
   "execution_count": 87,
   "id": "correct-wrist",
   "metadata": {},
   "outputs": [
    {
     "data": {
      "text/plain": [
       "Date            0\n",
       "Pageviews       0\n",
       "Clicks          0\n",
       "Enrollments    14\n",
       "Payments       14\n",
       "dtype: int64"
      ]
     },
     "execution_count": 87,
     "metadata": {},
     "output_type": "execute_result"
    }
   ],
   "source": [
    "control_df.isnull().sum()"
   ]
  },
  {
   "cell_type": "code",
   "execution_count": 93,
   "id": "pretty-thailand",
   "metadata": {},
   "outputs": [
    {
     "data": {
      "text/plain": [
       "Date            0\n",
       "Pageviews       0\n",
       "Clicks          0\n",
       "Enrollments    14\n",
       "Payments       14\n",
       "dtype: int64"
      ]
     },
     "execution_count": 93,
     "metadata": {},
     "output_type": "execute_result"
    }
   ],
   "source": [
    "exp_df.isnull().sum()"
   ]
  },
  {
   "cell_type": "code",
   "execution_count": 92,
   "id": "impaired-pilot",
   "metadata": {},
   "outputs": [
    {
     "name": "stdout",
     "output_type": "stream",
     "text": [
      "-0.0291 -0.012\n"
     ]
    }
   ],
   "source": [
    "#examing effect: Gross Conversation\n",
    "#H0: d=0\n",
    "clicks_control=control_df[control_df[\"Enrollments\"].notna()][\"Clicks\"].sum()\n",
    "clicks_exp=exp_df[exp_df[\"Enrollments\"].notna()][\"Clicks\"].sum()\n",
    "\n",
    "enrollments_control=control_df[\"Enrollments\"].sum()\n",
    "enrollments_exp=exp_df[\"Enrollments\"].sum()\n",
    "\n",
    "gc_control=enrollments_control/clicks_control\n",
    "gc_exp=enrollments_exp/clicks_exp\n",
    "\n",
    "gc_p_pooled=(enrollments_exp+enrollments_control)/(clicks_control+clicks_exp)\n",
    "gc_sd_pooled=math.sqrt(gc_p_pooled*(1-gc_p_pooled)*(1/clicks_control+1/clicks_exp))\n",
    "gc_lower,gc_upper=(gc_exp-gc_control)-1.96*gc_sd_pooled,(gc_exp-gc_control)+1.96*gc_sd_pooled\n",
    "\n",
    "print(round(gc_lower,4),round(gc_upper,4)) #didn't include 0 thus it is statistical significant but \n",
    "# experiment group worse than control group"
   ]
  },
  {
   "cell_type": "code",
   "execution_count": 96,
   "id": "arranged-leisure",
   "metadata": {},
   "outputs": [
    {
     "name": "stdout",
     "output_type": "stream",
     "text": [
      "-0.0116 0.0019\n"
     ]
    }
   ],
   "source": [
    "#examing effect: Net Conversation\n",
    "#H0: d=0\n",
    "payments_control=control_df[\"Payments\"].sum()\n",
    "payments_exp=exp_df[\"Payments\"].sum()\n",
    "\n",
    "nc_control=payments_control/clicks_control\n",
    "nc_exp=payments_exp/clicks_exp\n",
    "\n",
    "nc_p_pooled=(payments_control+payments_exp)/(clicks_control+clicks_exp)\n",
    "nc_sd_pooled=math.sqrt(nc_p_pooled*(1-nc_p_pooled)*(1/clicks_control+1/clicks_exp))\n",
    "nc_lower,nc_upper=(nc_exp-nc_control)-1.96*nc_sd_pooled,(nc_exp-nc_control)+1.96*nc_sd_pooled\n",
    "\n",
    "print(round(nc_lower,4),round(nc_upper,4))\n",
    "\n",
    "# include 0 thus not statistically significant and upper bound less than d_min (not practically significant)"
   ]
  },
  {
   "cell_type": "code",
   "execution_count": 109,
   "id": "artificial-omega",
   "metadata": {},
   "outputs": [
    {
     "name": "stdout",
     "output_type": "stream",
     "text": [
      "37\n",
      "23\n"
     ]
    }
   ],
   "source": [
    "## Sign Tests\n",
    "full_df=control_df.merge(exp_df,on=\"Date\",suffixes=(\"_control\",\"_exp\"))\n",
    "print(len(full_df))\n",
    "full_df=full_df[full_df[\"Enrollments_control\"].notna()]\n",
    "print(len(full_df))"
   ]
  },
  {
   "cell_type": "code",
   "execution_count": 113,
   "id": "endless-league",
   "metadata": {},
   "outputs": [],
   "source": [
    "full_df[\"GC\"]=full_df.apply(lambda x: 1 if x[\"Enrollments_exp\"]/x[\"Clicks_exp\"]> \\\n",
    "            x[\"Enrollments_control\"]/x[\"Clicks_control\"] else 0,axis=1)\n",
    "\n",
    "full_df[\"NC\"]=full_df.apply(lambda x: 1 if x[\"Payments_exp\"]/x[\"Clicks_exp\"]> \\\n",
    "            x[\"Payments_control\"]/x[\"Clicks_control\"] else 0,axis=1)"
   ]
  },
  {
   "cell_type": "code",
   "execution_count": 114,
   "id": "diagnostic-swimming",
   "metadata": {},
   "outputs": [
    {
     "data": {
      "text/html": [
       "<div>\n",
       "<style scoped>\n",
       "    .dataframe tbody tr th:only-of-type {\n",
       "        vertical-align: middle;\n",
       "    }\n",
       "\n",
       "    .dataframe tbody tr th {\n",
       "        vertical-align: top;\n",
       "    }\n",
       "\n",
       "    .dataframe thead th {\n",
       "        text-align: right;\n",
       "    }\n",
       "</style>\n",
       "<table border=\"1\" class=\"dataframe\">\n",
       "  <thead>\n",
       "    <tr style=\"text-align: right;\">\n",
       "      <th></th>\n",
       "      <th>Date</th>\n",
       "      <th>Pageviews_control</th>\n",
       "      <th>Clicks_control</th>\n",
       "      <th>Enrollments_control</th>\n",
       "      <th>Payments_control</th>\n",
       "      <th>Pageviews_exp</th>\n",
       "      <th>Clicks_exp</th>\n",
       "      <th>Enrollments_exp</th>\n",
       "      <th>Payments_exp</th>\n",
       "      <th>GC</th>\n",
       "      <th>NC</th>\n",
       "    </tr>\n",
       "  </thead>\n",
       "  <tbody>\n",
       "    <tr>\n",
       "      <th>0</th>\n",
       "      <td>Sat, Oct 11</td>\n",
       "      <td>7723</td>\n",
       "      <td>687</td>\n",
       "      <td>134.0</td>\n",
       "      <td>70.0</td>\n",
       "      <td>7716</td>\n",
       "      <td>686</td>\n",
       "      <td>105.0</td>\n",
       "      <td>34.0</td>\n",
       "      <td>0</td>\n",
       "      <td>0</td>\n",
       "    </tr>\n",
       "    <tr>\n",
       "      <th>1</th>\n",
       "      <td>Sun, Oct 12</td>\n",
       "      <td>9102</td>\n",
       "      <td>779</td>\n",
       "      <td>147.0</td>\n",
       "      <td>70.0</td>\n",
       "      <td>9288</td>\n",
       "      <td>785</td>\n",
       "      <td>116.0</td>\n",
       "      <td>91.0</td>\n",
       "      <td>0</td>\n",
       "      <td>1</td>\n",
       "    </tr>\n",
       "    <tr>\n",
       "      <th>2</th>\n",
       "      <td>Mon, Oct 13</td>\n",
       "      <td>10511</td>\n",
       "      <td>909</td>\n",
       "      <td>167.0</td>\n",
       "      <td>95.0</td>\n",
       "      <td>10480</td>\n",
       "      <td>884</td>\n",
       "      <td>145.0</td>\n",
       "      <td>79.0</td>\n",
       "      <td>0</td>\n",
       "      <td>0</td>\n",
       "    </tr>\n",
       "    <tr>\n",
       "      <th>3</th>\n",
       "      <td>Tue, Oct 14</td>\n",
       "      <td>9871</td>\n",
       "      <td>836</td>\n",
       "      <td>156.0</td>\n",
       "      <td>105.0</td>\n",
       "      <td>9867</td>\n",
       "      <td>827</td>\n",
       "      <td>138.0</td>\n",
       "      <td>92.0</td>\n",
       "      <td>0</td>\n",
       "      <td>0</td>\n",
       "    </tr>\n",
       "    <tr>\n",
       "      <th>4</th>\n",
       "      <td>Wed, Oct 15</td>\n",
       "      <td>10014</td>\n",
       "      <td>837</td>\n",
       "      <td>163.0</td>\n",
       "      <td>64.0</td>\n",
       "      <td>9793</td>\n",
       "      <td>832</td>\n",
       "      <td>140.0</td>\n",
       "      <td>94.0</td>\n",
       "      <td>0</td>\n",
       "      <td>1</td>\n",
       "    </tr>\n",
       "  </tbody>\n",
       "</table>\n",
       "</div>"
      ],
      "text/plain": [
       "          Date  Pageviews_control  Clicks_control  Enrollments_control  \\\n",
       "0  Sat, Oct 11               7723             687                134.0   \n",
       "1  Sun, Oct 12               9102             779                147.0   \n",
       "2  Mon, Oct 13              10511             909                167.0   \n",
       "3  Tue, Oct 14               9871             836                156.0   \n",
       "4  Wed, Oct 15              10014             837                163.0   \n",
       "\n",
       "   Payments_control  Pageviews_exp  Clicks_exp  Enrollments_exp  Payments_exp  \\\n",
       "0              70.0           7716         686            105.0          34.0   \n",
       "1              70.0           9288         785            116.0          91.0   \n",
       "2              95.0          10480         884            145.0          79.0   \n",
       "3             105.0           9867         827            138.0          92.0   \n",
       "4              64.0           9793         832            140.0          94.0   \n",
       "\n",
       "   GC  NC  \n",
       "0   0   0  \n",
       "1   0   1  \n",
       "2   0   0  \n",
       "3   0   0  \n",
       "4   0   1  "
      ]
     },
     "execution_count": 114,
     "metadata": {},
     "output_type": "execute_result"
    }
   ],
   "source": [
    "full_df.head()"
   ]
  },
  {
   "cell_type": "code",
   "execution_count": 137,
   "id": "outside-spelling",
   "metadata": {},
   "outputs": [
    {
     "name": "stdout",
     "output_type": "stream",
     "text": [
      "4\n",
      "10\n"
     ]
    }
   ],
   "source": [
    "print(len(full_df[full_df[\"GC\"]==1]))\n",
    "print(len(full_df[full_df[\"NC\"]==1]))"
   ]
  },
  {
   "cell_type": "code",
   "execution_count": 154,
   "id": "small-xerox",
   "metadata": {},
   "outputs": [],
   "source": [
    "def binomial_prob(n,x):\n",
    "    p=math.factorial(n)/(math.factorial(x)*math.factorial(n-x))*0.5**x*0.5**(n-x)\n",
    "    return p\n",
    "\n",
    "def get_result(n,x):\n",
    "    prob=0\n",
    "    for i in range(0,x+1):\n",
    "        prob=prob+binomial_prob(n,i)\n",
    "    return 2*prob"
   ]
  },
  {
   "cell_type": "code",
   "execution_count": 158,
   "id": "scheduled-boring",
   "metadata": {},
   "outputs": [
    {
     "name": "stdout",
     "output_type": "stream",
     "text": [
      "0.002599477767944336\n",
      "0.6776394844055176\n"
     ]
    }
   ],
   "source": [
    "print(get_result(23,4)) #significant\n",
    "print(get_result(23,10)) #not significant"
   ]
  },
  {
   "cell_type": "code",
   "execution_count": null,
   "id": "twenty-harmony",
   "metadata": {},
   "outputs": [],
   "source": []
  }
 ],
 "metadata": {
  "kernelspec": {
   "display_name": "Python 3",
   "language": "python",
   "name": "python3"
  },
  "language_info": {
   "codemirror_mode": {
    "name": "ipython",
    "version": 3
   },
   "file_extension": ".py",
   "mimetype": "text/x-python",
   "name": "python",
   "nbconvert_exporter": "python",
   "pygments_lexer": "ipython3",
   "version": "3.9.1"
  }
 },
 "nbformat": 4,
 "nbformat_minor": 5
}
